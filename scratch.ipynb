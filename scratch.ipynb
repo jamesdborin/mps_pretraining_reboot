{
 "cells": [
  {
   "cell_type": "code",
   "execution_count": 9,
   "metadata": {},
   "outputs": [
    {
     "name": "stdout",
     "output_type": "stream",
     "text": [
      "{'ZZ': 0.2, 'IX': 3, 'XI': 3, 'IZ': 1, 'ZI': 1}\n",
      "0.050*Z((0, 0))*Z((0, 1))+0.750*X((0, 0))+0.250*Z((0, 0))+0.050*Z((0, 1))*Z((0, 2))+0.750*X((0, 1))+0.250*Z((0, 1))+0.050*Z((0, 2))*Z((0, 3))+0.750*X((0, 2))+0.250*Z((0, 2))+0.750*X((0, 3))+0.250*Z((0, 3))\n"
     ]
    }
   ],
   "source": [
    "# try to make energy expectation more efficient using cirq.PauliSum\n",
    "from xmps.Hamiltonians import Hamiltonian\n",
    "import cirq\n",
    "\n",
    "ham_dict = {'ZZ':0.2, 'X':3, 'Z':1}\n",
    "tfim = Hamiltonian(ham_dict)\n",
    "print(tfim.strings)\n",
    "\n",
    "letter_to_cirq_ops = {\n",
    "    'X':cirq.ops.X,\n",
    "    'Z':cirq.ops.Z,\n",
    "    'I':cirq.ops.I\n",
    "}\n",
    "\n",
    "def to_pauli_string(qubits, ham_dict):\n",
    "    L = len(qubits) \n",
    "    pauli_strings = []\n",
    "    for i in range(L):\n",
    "        for strings in ham_dict.keys():\n",
    "\n",
    "            coeff = float(ham_dict[strings]) / L\n",
    "\n",
    "            if len(strings) == 2:\n",
    "                if i < (L-1):\n",
    "                    pauli_strings.append(\n",
    "                        coeff * cirq.PauliString(\n",
    "                            letter_to_cirq_ops[strings[0]].on(qubits[i]),\n",
    "                            letter_to_cirq_ops[strings[1]].on(qubits[i+1]),\n",
    "                    ))\n",
    "\n",
    "            else:\n",
    "                pauli_strings.append(\n",
    "                    coeff * cirq.PauliString(\n",
    "                        letter_to_cirq_ops[strings].on(qubits[i])\n",
    "                    )\n",
    "                )\n",
    "\n",
    "    return sum(pauli_strings)\n",
    "L=4\n",
    "qubits = cirq.GridQubit.rect(1,L)\n",
    "x = to_pauli_string(qubits, {'ZZ':0.2, 'X':3, 'Z':1})\n",
    "print(x)"
   ]
  },
  {
   "cell_type": "code",
   "execution_count": 10,
   "metadata": {},
   "outputs": [],
   "source": [
    "from mps_gradient import (\n",
    "    energy, \n",
    "    energy_circuit,\n",
    "    generate_params\n",
    ")\n",
    "import numpy as np\n",
    "\n",
    "L = 4\n",
    "\n",
    "p = generate_params(L)\n",
    "circuit = energy_circuit(\n",
    "    mps = None,\n",
    "    L = L,\n",
    "    p_forward=p,\n",
    "    p_reverse=p,\n",
    "    use_mps=False\n",
    ")\n",
    "\n",
    "assert np.allclose( np.eye(2**L), np.round(cirq.unitary(circuit)))"
   ]
  },
  {
   "cell_type": "code",
   "execution_count": 11,
   "metadata": {},
   "outputs": [
    {
     "name": "stdout",
     "output_type": "stream",
     "text": [
      "1.1499995\n"
     ]
    }
   ],
   "source": [
    "print(energy(tfim, circuit))"
   ]
  },
  {
   "cell_type": "code",
   "execution_count": 12,
   "metadata": {},
   "outputs": [
    {
     "name": "stdout",
     "output_type": "stream",
     "text": [
      "1.1500000962400332\n"
     ]
    }
   ],
   "source": [
    "sim = cirq.Simulator()\n",
    "psi = sim.simulate(circuit).final_state_vector\n",
    "qs = cirq.GridQubit.rect(1,L)\n",
    "qubit_mapping = {q:i for i,q in zip(range(L), qs)}\n",
    "a = x.expectation_from_state_vector(psi, qubit_mapping).real\n",
    "print(a)"
   ]
  },
  {
   "cell_type": "code",
   "execution_count": 6,
   "metadata": {},
   "outputs": [
    {
     "data": {
      "text/plain": [
       "1.0000005137453367"
      ]
     },
     "execution_count": 6,
     "metadata": {},
     "output_type": "execute_result"
    }
   ],
   "source": [
    "a / energy(tfim,circuit)"
   ]
  },
  {
   "cell_type": "code",
   "execution_count": 15,
   "metadata": {},
   "outputs": [
    {
     "name": "stdout",
     "output_type": "stream",
     "text": [
      "0.050*Z((0, 0))*Z((0, 1))+1.500*X((0, 1))+0.750*X((0, 0))+0.500*Z((0, 1))+0.250*Z((0, 0))+0.050*Z((0, 1))*Z((0, 2))+1.500*X((0, 2))+0.500*Z((0, 2))+0.050*Z((0, 2))*Z((0, 3))+0.750*X((0, 3))+0.250*Z((0, 3))\n"
     ]
    },
    {
     "data": {
      "text/plain": [
       "1.6499988262463223"
      ]
     },
     "execution_count": 15,
     "metadata": {},
     "output_type": "execute_result"
    }
   ],
   "source": [
    "from mps_gradient import energy_efficient\n",
    "\n",
    "energy_efficient({'ZZ':0.2, 'X':3, 'Z':1}, circuit)"
   ]
  },
  {
   "cell_type": "code",
   "execution_count": 1,
   "metadata": {},
   "outputs": [],
   "source": [
    "%load_ext autoreload\n",
    "%autoreload 2\n"
   ]
  },
  {
   "cell_type": "code",
   "execution_count": null,
   "metadata": {},
   "outputs": [],
   "source": []
  },
  {
   "cell_type": "code",
   "execution_count": null,
   "metadata": {},
   "outputs": [],
   "source": []
  }
 ],
 "metadata": {
  "interpreter": {
   "hash": "d82ea8c7c79b0b9bd8109cb74dd0acef3c7f0cf058071bc61080534d614d21a6"
  },
  "kernelspec": {
   "display_name": "Python 3.8.5 ('base')",
   "language": "python",
   "name": "python3"
  },
  "language_info": {
   "codemirror_mode": {
    "name": "ipython",
    "version": 3
   },
   "file_extension": ".py",
   "mimetype": "text/x-python",
   "name": "python",
   "nbconvert_exporter": "python",
   "pygments_lexer": "ipython3",
   "version": "3.8.5"
  },
  "orig_nbformat": 4
 },
 "nbformat": 4,
 "nbformat_minor": 2
}
